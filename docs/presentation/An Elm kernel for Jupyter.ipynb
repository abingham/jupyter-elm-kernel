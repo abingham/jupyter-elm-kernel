{
 "cells": [
  {
   "cell_type": "code",
   "execution_count": 6,
   "metadata": {
    "collapsed": false,
    "slideshow": {
     "slide_type": "skip"
    }
   },
   "outputs": [
    {
     "data": {
      "text/html": [
       "<link rel=\"stylesheet\" type=\"text/css\" href=\"theme/sixty_north.css\">"
      ],
      "text/plain": [
       "<IPython.core.display.HTML object>"
      ]
     },
     "metadata": {},
     "output_type": "display_data"
    }
   ],
   "source": [
    "%%html\n",
    "<link rel=\"stylesheet\" type=\"text/css\" href=\"theme/sixty_north.css\">"
   ]
  },
  {
   "cell_type": "markdown",
   "metadata": {
    "slideshow": {
     "slide_type": "slide"
    }
   },
   "source": [
    "# The Elm kernel for Jupyter\n",
    "## Interactive notebooks for Elm\n",
    "\n",
    "----\n",
    "\n",
    "**Austin Bingham**<br>\n",
    "*twitter:* @austin_bingham<br>\n",
    "*email:* austin@sixty-north.com\n",
    "\n",
    "----\n",
    "\n",
    "![Sixty North logo](theme/sixty-north-logo.small.png)"
   ]
  },
  {
   "cell_type": "markdown",
   "metadata": {
    "slideshow": {
     "slide_type": "slide"
    }
   },
   "source": [
    "# What is a Jupyter notebook?\n",
    "\n",
    "> The Jupyter Notebook is an open-source web application that allows you to create and share documents that contain live code, equations, visualizations and explanatory text.\n",
    ">\n",
    "> -- <cite>jupyter.org</cite>"
   ]
  },
  {
   "cell_type": "markdown",
   "metadata": {
    "slideshow": {
     "slide_type": "fragment"
    }
   },
   "source": [
    "Let's look at [an example showing the Elm architecture](../../examples/the-elm-architecture.ipynb)."
   ]
  },
  {
   "cell_type": "markdown",
   "metadata": {
    "slideshow": {
     "slide_type": "slide"
    }
   },
   "source": [
    "# The Elm kernel\n",
    "## Support for Elm code cells in Jupyter notebooks\n",
    "----\n",
    "- Accumulates code cells\n",
    "- Compiles accumulated code on `--compile-code`\n",
    "- Compilation goes into a temporary file\n",
    "- Compilaton results are shipped back to the web client\n",
    "- `elm-stuff` if kept between compilations"
   ]
  },
  {
   "cell_type": "markdown",
   "metadata": {
    "slideshow": {
     "slide_type": "slide"
    }
   },
   "source": [
    "# Kernel initialization\n",
    "----"
   ]
  },
  {
   "cell_type": "markdown",
   "metadata": {
    "slideshow": {
     "slide_type": "-"
    }
   },
   "source": [
    "```python\n",
    "class ElmKernel(Kernel):\n",
    "    def __init__(self, *args, **kwargs):\n",
    "        super().__init__(*args, **kwargs)\n",
    "        self._code = []\n",
    "        self._tempdir = TemporaryDirectory()\n",
    "```"
   ]
  },
  {
   "cell_type": "markdown",
   "metadata": {
    "slideshow": {
     "slide_type": "slide"
    }
   },
   "source": [
    "# Compilation and execution"
   ]
  },
  {
   "cell_type": "markdown",
   "metadata": {},
   "source": [
    "## Receive code from the web client\n",
    "----\n",
    "```python\n",
    "def do_execute(self, code, . . .):\n",
    "    self._code.append(code)\n",
    "    if self._should_compile:\n",
    "        try:\n",
    "            code = \"\\n\".join(self._code)\n",
    "            self._code = []\n",
    "            self._compile(code)\n",
    "        except Exception as exc:\n",
    "            self._send_error_result(str(exc))\n",
    "            return {'status': 'error' . . . }\n",
    "    return {'status': 'ok' . . . }\n",
    "```"
   ]
  },
  {
   "cell_type": "markdown",
   "metadata": {
    "slideshow": {
     "slide_type": "subslide"
    }
   },
   "source": [
    "## Write code to file and compile it, reporting any failures\n",
    "----\n",
    "```python\n",
    "def _compile(self, code):\n",
    "    with self._tempfile('input.elm') as infile,\\\n",
    "         self._tempfile('index.js') as outfile:\n",
    "        with open(infile, mode='wt') as f:\n",
    "            f.write(code)\n",
    "        try:\n",
    "            # compile in a subprocess\n",
    "        except subprocess.CalledProcessError as err:\n",
    "            self._send_error_result(err.stdout)\n",
    "        except Exception as err:\n",
    "            self._send_error_result(repr(err))\n",
    "            raise\n",
    "```"
   ]
  },
  {
   "cell_type": "markdown",
   "metadata": {
    "slideshow": {
     "slide_type": "subslide"
    }
   },
   "source": [
    "## Run compiler, read output, and report success\n",
    "----\n",
    "```python\n",
    "subprocess.run(\n",
    "    ['elm-make', infile, '--yes', '--output={}'.format(outfile)],\n",
    "    cwd=self._tempdir.name,\n",
    "    check=True,\n",
    "    stdout=subprocess.PIPE,\n",
    "    stderr=subprocess.STDOUT,\n",
    "    encoding=sys.getdefaultencoding())\n",
    "\n",
    "with open(outfile, mode='rt') as f:\n",
    "    javascript = f.read()\n",
    "\n",
    "self._send_success_result(javascript)\n",
    "```"
   ]
  },
  {
   "cell_type": "markdown",
   "metadata": {
    "slideshow": {
     "slide_type": "slide"
    }
   },
   "source": [
    "# Reporting success\n",
    "## Producing JavaScript embedding code\n",
    "----\n",
    "```python\n",
    "module_name = \"Main\"\n",
    "div_id = 'elm-div-' + str(self.execution_count)\n",
    "template = \"\"\"\n",
    "    var defineElm = function(cb) {{\n",
    "        if (this.Elm) {{\n",
    "            this.oldElm = this.Elm;\n",
    "        }}\n",
    "        var define = null;\n",
    "        {js}\n",
    "        cb();\n",
    "    }};\n",
    "    var obj = new Object();\n",
    "    defineElm.bind(obj)(function(){{\n",
    "        var mountNode = document.getElementById('{div_id}');\n",
    "        obj.Elm. {module_name}.embed(mountNode);\n",
    "    }});\"\"\"\n",
    "```"
   ]
  },
  {
   "cell_type": "markdown",
   "metadata": {
    "slideshow": {
     "slide_type": "subslide"
    }
   },
   "source": [
    "## Injecting HTML into the client\n",
    "----\n",
    "```python\n",
    "self.send_response(\n",
    "    self.iopub_socket,\n",
    "    'display_data',\n",
    "    {\n",
    "        'metadata': {},\n",
    "        'data': {\n",
    "            'text/html': '<div id=\"' + div_id + '\"></div>'\n",
    "        }\n",
    "    }\n",
    ")\n",
    "```"
   ]
  },
  {
   "cell_type": "markdown",
   "metadata": {
    "slideshow": {
     "slide_type": "subslide"
    }
   },
   "source": [
    "## Sending JavaScript to client\n",
    "----\n",
    "```python\n",
    "javascript = template.format(\n",
    "    js=javascript,\n",
    "    module_name=module_name,\n",
    "    div_id=div_id)\n",
    "\n",
    "self.send_response(\n",
    "    self.iopub_socket,\n",
    "    'display_data',\n",
    "    {\n",
    "        'metadata': {},\n",
    "        'data': {\n",
    "            'application/javascript': javascript\n",
    "        }\n",
    "    })\n",
    "```"
   ]
  },
  {
   "cell_type": "markdown",
   "metadata": {
    "slideshow": {
     "slide_type": "slide"
    }
   },
   "source": [
    "# Good news! It seems to work!\n",
    "\n",
    "![Agent Cooper giving thumbs up](images/cooper-thumbsup.jpeg)"
   ]
  },
  {
   "cell_type": "code",
   "execution_count": null,
   "metadata": {
    "collapsed": true
   },
   "outputs": [],
   "source": []
  }
 ],
 "metadata": {
  "celltoolbar": "Slideshow",
  "kernelspec": {
   "display_name": "Python 3",
   "language": "python",
   "name": "python3"
  },
  "language_info": {
   "codemirror_mode": {
    "name": "ipython",
    "version": 3
   },
   "file_extension": ".py",
   "mimetype": "text/x-python",
   "name": "python",
   "nbconvert_exporter": "python",
   "pygments_lexer": "ipython3",
   "version": "3.6.0"
  }
 },
 "nbformat": 4,
 "nbformat_minor": 2
}
