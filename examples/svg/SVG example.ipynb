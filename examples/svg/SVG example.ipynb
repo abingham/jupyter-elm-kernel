{
 "cells": [
  {
   "cell_type": "markdown",
   "metadata": {},
   "source": [
    "# Rendering SVGs in a notebook\n",
    "This shows how you can draw SVGs in notebooks using the `elm-lang/svg` module.\n",
    "\n",
    "\n",
    "To do this, you need to make sure you have an `elm-package.json` in the same directory as the notebook. The `elm-package.json` needs to have a dependency on `elm-lang/svg`, something like this:"
   ]
  },
  {
   "cell_type": "markdown",
   "metadata": {},
   "source": [
    "```json\n",
    "{\n",
    "    \"version\": \"1.0.0\",\n",
    "    \"summary\": \"helpful summary of your project, less than 80 characters\",\n",
    "    \"repository\": \"https://github.com/user/project.git\",\n",
    "    \"license\": \"BSD3\",\n",
    "    \"source-directories\": [\n",
    "        \".\"\n",
    "    ],\n",
    "    \"exposed-modules\": [],\n",
    "    \"dependencies\": {\n",
    "        \"elm-lang/core\": \"5.1.1 <= v < 6.0.0\",\n",
    "        \"elm-lang/html\": \"2.0.0 <= v < 3.0.0\",\n",
    "        \"elm-lang/svg\": \"2.0.0 <= v < 3.0.0\"\n",
    "    },\n",
    "    \"elm-version\": \"0.18.0 <= v < 0.19.0\"\n",
    "}\n",
    "```"
   ]
  },
  {
   "cell_type": "markdown",
   "metadata": {},
   "source": [
    "## Basic SVG example"
   ]
  },
  {
   "cell_type": "code",
   "execution_count": 1,
   "metadata": {
    "scrolled": true
   },
   "outputs": [
    {
     "data": {
      "text/html": [
       "<pre>[Errno 2] No such file or directory: 'elm-make': 'elm-make'</pre>"
      ]
     },
     "metadata": {},
     "output_type": "display_data"
    }
   ],
   "source": [
    "import Html\n",
    "import Svg exposing (..)\n",
    "import Svg.Attributes exposing (..)\n",
    "\n",
    "main = \n",
    "    svg [stroke \"#f00\"] [line [x1 \"0\", y1 \"1\", x2 \"100\", y2 \"100\"] []]\n",
    "    \n",
    "-- compile-code"
   ]
  },
  {
   "cell_type": "markdown",
   "metadata": {},
   "source": [
    "## A more complex example"
   ]
  },
  {
   "cell_type": "code",
   "execution_count": null,
   "metadata": {},
   "outputs": [],
   "source": [
    "import Svg exposing (..)\n",
    "import Svg.Attributes exposing (..)\n",
    "\n",
    "main =\n",
    "    svg\n",
    "        [ version \"1.1\", x \"0\", y \"0\", viewBox \"0 0 323.141 322.95\", height \"200px\", width \"200px\"\n",
    "        ]\n",
    "        [ polygon [ fill \"#F0AD00\", points \"161.649,152.782 231.514,82.916 91.783,82.916\" ] []\n",
    "        , polygon [ fill \"#7FD13B\", points \"8.867,0 79.241,70.375 232.213,70.375 161.838,0\" ] []\n",
    "        , rect\n",
    "            [ fill \"#7FD13B\", x \"192.99\", y \"107.392\", width \"107.676\", height \"108.167\"\n",
    "            , transform \"matrix(0.7071 0.7071 -0.7071 0.7071 186.4727 -127.2386)\"\n",
    "            ]\n",
    "            []\n",
    "        , polygon [ fill \"#60B5CC\", points \"323.298,143.724 323.298,0 179.573,0\" ] []\n",
    "        , polygon [ fill \"#5A6378\", points \"152.781,161.649 0,8.868 0,314.432\" ] []\n",
    "        , polygon [ fill \"#F0AD00\", points \"255.522,246.655 323.298,314.432 323.298,178.879\" ] []\n",
    "        , polygon [ fill \"#60B5CC\", points \"161.649,170.517 8.869,323.298 314.43,323.298\" ] []\n",
    "    ]\n",
    "    \n",
    "-- compile-code"
   ]
  },
  {
   "cell_type": "code",
   "execution_count": null,
   "metadata": {},
   "outputs": [],
   "source": []
  }
 ],
 "metadata": {
  "kernelspec": {
   "display_name": "Elm",
   "language": "elm",
   "name": "elm"
  },
  "language_info": {
   "codemirror_mode": "elm",
   "file_extension": ".elm",
   "mimetype": "text/x-elm",
   "name": "elm"
  }
 },
 "nbformat": 4,
 "nbformat_minor": 2
}
