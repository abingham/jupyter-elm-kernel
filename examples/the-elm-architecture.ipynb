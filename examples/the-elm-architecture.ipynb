{
 "cells": [
  {
   "cell_type": "markdown",
   "metadata": {
    "deletable": true,
    "editable": true
   },
   "source": [
    "# The Elm Architecture\n",
    "\n",
    "This is a pretty minimal example of The Elm Architecture in a Jupyter notebook.\n",
    "\n",
    "![The Elm architecture](images/tea.png)"
   ]
  },
  {
   "cell_type": "markdown",
   "metadata": {
    "deletable": true,
    "editable": true
   },
   "source": [
    "## Imports\n",
    "First, we have to import a few other modules"
   ]
  },
  {
   "cell_type": "code",
   "execution_count": null,
   "metadata": {
    "collapsed": true,
    "deletable": true,
    "editable": true
   },
   "outputs": [],
   "source": [
    "import Html exposing (..)\n",
    "import Html.Events exposing (..)\n",
    "import Platform.Cmd\n",
    "import Platform.Sub"
   ]
  },
  {
   "cell_type": "markdown",
   "metadata": {
    "deletable": true,
    "editable": true
   },
   "source": [
    "## Messages\n",
    "Next we define our message \"vocabulary\". These are the various ways in which our model can be updated."
   ]
  },
  {
   "cell_type": "code",
   "execution_count": null,
   "metadata": {
    "collapsed": true,
    "deletable": true,
    "editable": true
   },
   "outputs": [],
   "source": [
    "type Msg = Inc | Dec"
   ]
  },
  {
   "cell_type": "markdown",
   "metadata": {
    "deletable": true,
    "editable": true
   },
   "source": [
    "## Model\n",
    "Our model is simply an integer in this case. While it's not strictly necessary to create an alias for it, we'll include one for completeness; for more complex models you'll almost always have an alias."
   ]
  },
  {
   "cell_type": "code",
   "execution_count": null,
   "metadata": {
    "collapsed": true,
    "deletable": true,
    "editable": true
   },
   "outputs": [],
   "source": [
    "type alias Model = Int"
   ]
  },
  {
   "cell_type": "markdown",
   "metadata": {
    "deletable": true,
    "editable": true
   },
   "source": [
    "## View\n",
    "The `view` function renders our model."
   ]
  },
  {
   "cell_type": "code",
   "execution_count": null,
   "metadata": {
    "collapsed": true,
    "deletable": true,
    "editable": true
   },
   "outputs": [],
   "source": [
    "view : Model -> Html Msg\n",
    "view model =\n",
    "    div []\n",
    "        [ button [ onClick Inc ] [ text \"+\" ]\n",
    "        , div [] [ text (toString model) ]\n",
    "        , button [ onClick Dec ] [ text \"-\" ]\n",
    "        ]"
   ]
  },
  {
   "cell_type": "markdown",
   "metadata": {
    "deletable": true,
    "editable": true
   },
   "source": [
    "## Update\n",
    "The `update` function takes a `Msg` and a `Model`, returning a new, updated `Model`. "
   ]
  },
  {
   "cell_type": "code",
   "execution_count": null,
   "metadata": {
    "collapsed": true,
    "deletable": true,
    "editable": true
   },
   "outputs": [],
   "source": [
    "update : Msg -> Model -> (Model, Cmd Msg)\n",
    "update msg model =\n",
    "    case msg of\n",
    "        Inc -> (model + 1) ! []\n",
    "        Dec -> (model - 1) ! []"
   ]
  },
  {
   "cell_type": "markdown",
   "metadata": {
    "deletable": true,
    "editable": true
   },
   "source": [
    "## Main\n",
    "Finally we tie everything together with `main`. "
   ]
  },
  {
   "cell_type": "code",
   "execution_count": null,
   "metadata": {
    "collapsed": false,
    "deletable": true,
    "editable": true
   },
   "outputs": [],
   "source": [
    "main =\n",
    "    program {\n",
    "        init = (0, Platform.Cmd.none)\n",
    "        , view = view\n",
    "        , update = update\n",
    "        , subscriptions = \\_ -> Platform.Sub.none\n",
    "    }\n",
    "    \n",
    "-- compile-code"
   ]
  }
 ],
 "metadata": {
  "kernelspec": {
   "display_name": "Elm",
   "language": "elm",
   "name": "elm"
  },
  "language_info": {
   "codemirror_mode": "elm",
   "file_extension": ".elm",
   "mimetype": "text/x-elm",
   "name": "elm"
  }
 },
 "nbformat": 4,
 "nbformat_minor": 2
}
