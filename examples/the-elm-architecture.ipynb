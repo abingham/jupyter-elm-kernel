{
 "cells": [
  {
   "cell_type": "markdown",
   "metadata": {},
   "source": [
    "# The Elm Architecture\n",
    "\n",
    "This is a pretty minimal example of The Elm Architecture in a Jupyter notebook.\n",
    "\n",
    "![The Elm architecture](images/tea.png)"
   ]
  },
  {
   "cell_type": "markdown",
   "metadata": {},
   "source": [
    "## Imports\n",
    "First, we have to import a few other modules"
   ]
  },
  {
   "cell_type": "code",
   "execution_count": null,
   "metadata": {},
   "outputs": [],
   "source": [
    "import Browser\n",
    "import Html exposing (..)\n",
    "import Html.Events exposing (..)"
   ]
  },
  {
   "cell_type": "markdown",
   "metadata": {},
   "source": [
    "## Messages\n",
    "Next we define our message \"vocabulary\". These are the various ways in which our model can be updated."
   ]
  },
  {
   "cell_type": "code",
   "execution_count": null,
   "metadata": {},
   "outputs": [],
   "source": [
    "type Msg = Inc | Dec"
   ]
  },
  {
   "cell_type": "markdown",
   "metadata": {},
   "source": [
    "## Model\n",
    "Our model is simply an integer in this case. While it's not strictly necessary to create an alias for it, we'll include one for completeness; for more complex models you'll almost always have an alias."
   ]
  },
  {
   "cell_type": "code",
   "execution_count": null,
   "metadata": {},
   "outputs": [],
   "source": [
    "type alias Model = Int"
   ]
  },
  {
   "cell_type": "markdown",
   "metadata": {},
   "source": [
    "## Init and subscriptions\n",
    "Next we define our init and subscriptions. Init passes the starting value in to our main program.\n",
    "Subscriptions is for telling our main program what events we want to receive."
   ]
  },
  {
   "cell_type": "code",
   "execution_count": null,
   "metadata": {},
   "outputs": [],
   "source": [
    "init : () -> (Model, Cmd Msg)\n",
    "init _ = (0, Cmd.none)\n",
    "\n",
    "subscriptions : Model -> Sub Msg\n",
    "subscriptions _ = Sub.none"
   ]
  },
  {
   "cell_type": "markdown",
   "metadata": {},
   "source": [
    "## View\n",
    "The `view` function renders our model."
   ]
  },
  {
   "cell_type": "code",
   "execution_count": null,
   "metadata": {},
   "outputs": [],
   "source": [
    "view : Model -> Html Msg\n",
    "view model =\n",
    "    div []\n",
    "        [ button [ onClick Inc ] [ text \"+\" ]\n",
    "        , div [] [ text (String.fromInt model) ]\n",
    "        , button [ onClick Dec ] [ text \"-\" ]\n",
    "        ]"
   ]
  },
  {
   "cell_type": "markdown",
   "metadata": {},
   "source": [
    "## Update\n",
    "The `update` function takes a `Msg` and a `Model`, returning a new, updated `Model`. "
   ]
  },
  {
   "cell_type": "code",
   "execution_count": null,
   "metadata": {},
   "outputs": [],
   "source": [
    "update : Msg -> Model -> (Model, Cmd Msg)\n",
    "update msg model =\n",
    "    case msg of\n",
    "        Inc -> (model + 1, Cmd.none)\n",
    "        Dec -> (model - 1, Cmd.none)"
   ]
  },
  {
   "cell_type": "markdown",
   "metadata": {},
   "source": [
    "## Main\n",
    "Finally we tie everything together with `main`. "
   ]
  },
  {
   "cell_type": "code",
   "execution_count": null,
   "metadata": {},
   "outputs": [],
   "source": [
    "main =\n",
    "    Browser.element \n",
    "        { init = init\n",
    "        , view = view\n",
    "        , update = update\n",
    "        , subscriptions = subscriptions\n",
    "        }\n",
    "    \n",
    "-- compile-code"
   ]
  }
 ],
 "metadata": {
  "kernelspec": {
   "display_name": "Elm",
   "language": "elm",
   "name": "elm"
  },
  "language_info": {
   "codemirror_mode": "elm",
   "file_extension": ".elm",
   "mimetype": "text/x-elm",
   "name": "elm"
  }
 },
 "nbformat": 4,
 "nbformat_minor": 2
}
