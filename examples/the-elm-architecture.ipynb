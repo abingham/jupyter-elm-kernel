{
 "cells": [
  {
   "cell_type": "markdown",
   "metadata": {},
   "source": [
    "# The Elm Architecture\n",
    "\n",
    "This is a pretty minimal example of The Elm Architecture in a Jupyter notebook."
   ]
  },
  {
   "cell_type": "code",
   "execution_count": null,
   "metadata": {},
   "outputs": [],
   "source": [
    "import Html exposing (..)\n",
    "import Html.Events exposing (..)\n",
    "import Platform.Cmd\n",
    "import Platform.Sub\n",
    "\n",
    "type Msg = Inc | Dec\n",
    "\n",
    "view model =\n",
    "    div []\n",
    "        [ button [ onClick Inc ] [ text \"+\" ]\n",
    "        , div [] [ text (toString model) ]\n",
    "        , button [ onClick Dec ] [ text \"-\" ]\n",
    "        ]\n",
    "\n",
    "update msg model =\n",
    "    case msg of\n",
    "        Inc -> (model + 1) ! []\n",
    "        Dec -> (model - 1) ! []\n",
    "\n",
    "main =\n",
    "    program {\n",
    "        init = (0, Platform.Cmd.none)\n",
    "        , view = view\n",
    "        , update = update\n",
    "        , subscriptions = \\_ -> Platform.Sub.none\n",
    "    }\n"
   ]
  }
 ],
 "metadata": {
  "kernelspec": {
   "display_name": "Elm",
   "language": "text",
   "name": "elm"
  },
  "language_info": {
   "codemirror_mode": "elm",
   "file_extension": ".elm",
   "mimetype": "text/x-elm",
   "name": "elm"
  }
 },
 "nbformat": 4,
 "nbformat_minor": 2
}
