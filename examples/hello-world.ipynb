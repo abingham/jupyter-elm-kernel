{
 "cells": [
  {
   "cell_type": "markdown",
   "metadata": {
    "deletable": true,
    "editable": true
   },
   "source": [
    "# Hello, world!\n",
    "This is the obligatory \"hello world\" for the Elm Jupyter kernel."
   ]
  },
  {
   "cell_type": "code",
   "execution_count": null,
   "metadata": {
    "collapsed": false,
    "deletable": true,
    "editable": true
   },
   "outputs": [],
   "source": [
    "import Html\n",
    "\n",
    "main = \n",
    "    Html.text \"Hello, world!\"\n",
    "    \n",
    "-- compile-code"
   ]
  }
 ],
 "metadata": {
  "kernelspec": {
   "display_name": "Elm",
   "language": "text",
   "name": "elm"
  },
  "language_info": {
   "codemirror_mode": "elm",
   "file_extension": ".elm",
   "mimetype": "text/x-elm",
   "name": "elm"
  }
 },
 "nbformat": 4,
 "nbformat_minor": 2
}
