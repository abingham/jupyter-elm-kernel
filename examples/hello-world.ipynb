{
 "cells": [
  {
   "cell_type": "markdown",
   "metadata": {},
   "source": [
    "# Hello, world!\n",
    "This is the obligatory \"hello world\" for the Elm Jupyter kernel."
   ]
  },
  {
   "cell_type": "code",
   "execution_count": null,
   "metadata": {},
   "outputs": [],
   "source": [
    "import Html\n",
    "\n",
    "main = \n",
    "    Html.text \"Hello, world!\"\n",
    "    \n",
    "-- compile-code"
   ]
  },
  {
   "cell_type": "code",
   "execution_count": null,
   "metadata": {},
   "outputs": [],
   "source": []
  }
 ],
 "metadata": {
  "kernelspec": {
   "display_name": "Elm",
   "language": "elm",
   "name": "elm"
  },
  "language_info": {
   "codemirror_mode": "elm",
   "file_extension": ".elm",
   "mimetype": "text/x-elm",
   "name": "elm"
  }
 },
 "nbformat": 4,
 "nbformat_minor": 2
}
